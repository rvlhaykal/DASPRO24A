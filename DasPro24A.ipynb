{
 "cells": [
  {
   "cell_type": "code",
   "execution_count": 4,
   "id": "500353dc",
   "metadata": {},
   "outputs": [
    {
     "name": "stdout",
     "output_type": "stream",
     "text": [
      "Nama : Dedi\n",
      "Umur : 20\n",
      "Alamat : Jl. Cibolang 7423412\n",
      "Nilai Pemrograman : 80.5\n",
      "Status Menikah : False\n"
     ]
    }
   ],
   "source": [
    "name = \"Dedi\"\n",
    "age = 20\n",
    "address,province = \"Jl. Cibolang\",\"7423412\"\n",
    "scorePython = 80.5\n",
    "isMarried = False\n",
    "\n",
    "print(\"Nama :\",name)\n",
    "print(\"Umur :\",age)\n",
    "print(\"Alamat :\",address,province)\n",
    "print(\"Nilai Pemrograman :\",scorePython)\n",
    "print(\"Status Menikah :\",isMarried)"
   ]
  },
  {
   "cell_type": "code",
   "execution_count": 6,
   "id": "fa273475",
   "metadata": {},
   "outputs": [
    {
     "name": "stdout",
     "output_type": "stream",
     "text": [
      "Tipe Data <name> <class 'str'>\n",
      "Tipe Data <age> <class 'int'>\n",
      "Tipe Data <address> <class 'str'>\n",
      "Tipe Data <province> <class 'str'>\n",
      "Tipe Data <scorePython> <class 'float'>\n",
      "Tipe Data <isMarried> <class 'bool'>\n"
     ]
    }
   ],
   "source": [
    "print(\"Tipe Data <name>\",type(name))\n",
    "print(\"Tipe Data <age>\",type(age))\n",
    "print(\"Tipe Data <address>\",type(address))\n",
    "print(\"Tipe Data <province>\",type(province))\n",
    "print(\"Tipe Data <scorePython>\",type(scorePython))\n",
    "print(\"Tipe Data <isMarried>\",type(isMarried))"
   ]
  },
  {
   "cell_type": "code",
   "execution_count": 11,
   "id": "5412ba6a",
   "metadata": {},
   "outputs": [
    {
     "name": "stdout",
     "output_type": "stream",
     "text": [
      "7423412_7423412.0_True\n",
      "20_20.0_True\n",
      "80.5_80_True\n",
      "0_0.0_False\n"
     ]
    }
   ],
   "source": [
    "#Casting atau konversi Tipe Data\n",
    "#Konversi dari String ke (int,float,bool)\n",
    "strToInt = int(province)\n",
    "strToFloat = float(province)\n",
    "strToBool = bool(province)\n",
    "print(strToInt,strToFloat,strToBool,sep=\"_\")\n",
    "#Konversi dari int ke (str,float,bool)\n",
    "intToString = str(age)\n",
    "intToFloat = float(age)\n",
    "intToBool = bool(age)\n",
    "print(intToString,intToFloat,intToBool,sep=\"_\")\n",
    "#Konversi dari float ke (str,int,bool)\n",
    "floatToString = str(scorePython)\n",
    "floatToInt = int(scorePython)\n",
    "floatToBool = bool(scorePython)\n",
    "print(floatToString,floatToInt,floatToBool,sep=\"_\")\n",
    "#Konversi dari Bool ke (int,float,str)\n",
    "boolToInt = int(isMarried)\n",
    "boolToFloat = float(isMarried)\n",
    "boolToString = str(isMarried)\n",
    "print(boolToInt,boolToFloat,boolToString,sep=\"_\")"
   ]
  },
  {
   "cell_type": "code",
   "execution_count": 17,
   "id": "3d41c77a",
   "metadata": {},
   "outputs": [
    {
     "name": "stdout",
     "output_type": "stream",
     "text": [
      "K\n",
      "n\n"
     ]
    }
   ],
   "source": [
    "city = \"Kalimantan\"\n",
    "lenCity = len(city)\n",
    "print(city[0])\n",
    "print(city[lenCity-1])\n"
   ]
  },
  {
   "cell_type": "code",
   "execution_count": 26,
   "id": "f88bb33c",
   "metadata": {},
   "outputs": [
    {
     "name": "stdout",
     "output_type": "stream",
     "text": [
      "Nilai Desimal : 200\n",
      "Nilai Desimal dari 0xff: 255\n",
      "Nilai Desimal dari 0b1010: 10\n",
      "Nilai Desimal dari 0o377: 255\n",
      "<+++++++++++++++++++++++++>\n",
      "Nilai Biner dari : 200 0b11001000\n",
      "Nilai Octal dari : 200 0o310\n",
      "Nilai Hexa dari : 200 0xc8\n"
     ]
    }
   ],
   "source": [
    "desimal = 200\n",
    "hexa = 0xff\n",
    "biner = 0b1010\n",
    "octal = 0o377\n",
    "\n",
    "print(\"Nilai Desimal :\",desimal)\n",
    "print(\"Nilai Desimal dari 0xff:\",hexa)\n",
    "print(\"Nilai Desimal dari 0b1010:\",biner)\n",
    "print(\"Nilai Desimal dari 0o377:\",octal)\n",
    "print(\"<+++++++++++++++++++++++++>\")\n",
    "\n",
    "print(\"Nilai Biner dari :\",desimal, bin(desimal))\n",
    "print(\"Nilai Octal dari :\",desimal, oct(desimal))\n",
    "print(\"Nilai Hexa dari :\",desimal, hex(desimal))"
   ]
  },
  {
   "cell_type": "code",
   "execution_count": 58,
   "id": "3451e9f3",
   "metadata": {},
   "outputs": [
    {
     "name": "stdout",
     "output_type": "stream",
     "text": [
      "['Sukabumi', 'Bandung', 'Bogor', 'Jakarta']\n",
      "Sukabumi\n",
      "Jakarta\n",
      "['Sukabumi', 'Medan', 'Bogor', 'Jakarta']\n",
      "a\n",
      "=================\n",
      "('Andi', 'Budi', 'Caca')\n",
      "{'name': 'Arul', 'address': {'street': 'Warung Kiara', 'number': 69, 'province': 'West Java'}, 'age': 33, 'isMaried': True}\n",
      "West Java\n",
      "{'name': 'Eza', 'address': {'street': 'Cidahu', 'number': 69, 'province': 'West Java'}, 'age': 34, 'isMaried': True}\n",
      "Football\n",
      "33\n"
     ]
    }
   ],
   "source": [
    "#Tipe data Collection\n",
    "#List\n",
    "cities = [\"Sukabumi\",\"Bandung\",\"Bogor\",\"Jakarta\"]\n",
    "print(cities)\n",
    "print(cities[0])\n",
    "print(cities[len(cities)-1])\n",
    "cities[1] = \"Medan\"\n",
    "print(cities)\n",
    "print(cities[len(cities)-1][3])\n",
    "print(\"=================\")\n",
    "#Tuple\n",
    "names = (\"Andi\",\"Budi\",\"Caca\")\n",
    "print(names)\n",
    "#names[0] = \"Rudi\" akan menyebabkan error, karena tuple adalah immutable\n",
    "\n",
    "studentData = {\n",
    "    \"name\" : \"Arul\",\n",
    "    \"address\" : {\n",
    "        \"street\" : \"Warung Kiara\",\n",
    "        \"number\" : 69,\n",
    "        \"province\" : \"West Java\"\n",
    "    },\n",
    "    \"age\" : 33,\n",
    "    \"isMaried\" : True\n",
    "}\n",
    "\n",
    "#List Of Dictionary\n",
    "listStudent = [\n",
    "    \n",
    "  {\n",
    "    \"name\" : \"Arul\",\n",
    "    \"address\" : {\n",
    "        \"street\" : \"Warung Kiara\",\n",
    "        \"number\" : 69,\n",
    "        \"province\" : \"West Java\"\n",
    "    },\n",
    "    \"hobbies\" : [\"Basket\",\"Football\"],\n",
    "    \"age\" : 33,\n",
    "    \"isMaried\" : True\n",
    "},\n",
    "    {\n",
    "    \"name\" : \"Eza\",\n",
    "    \"address\" : {\n",
    "        \"street\" : \"Cidahu\",\n",
    "        \"number\" : 69,\n",
    "        \"province\" : \"West Java\"\n",
    "    },\n",
    "    \"age\" : 34,\n",
    "    \"isMaried\" : True\n",
    "}\n",
    "]\n",
    "print(studentData)\n",
    "print(studentData[\"address\"][\"province\"])#West Java\n",
    "print(listStudent[1])  #Semua data dari Eza  \n",
    "print(listStudent[0][\"hobbies\"][1]) #Football - hobi Eza urutan ke 2\n",
    "print(listStudent[0][\"age\"]) #Umur Eza"
   ]
  },
  {
   "cell_type": "code",
   "execution_count": 65,
   "id": "06417a6c",
   "metadata": {},
   "outputs": [
    {
     "name": "stdout",
     "output_type": "stream",
     "text": [
      "{'name': 'Dika', 'nilai': 80}\n",
      "{'Buah': 'Apel', 'Harga': 10000}\n",
      "{'Matkul': 'Aljabar', 'Nilai': 89}\n",
      "{'Merek': 'Xiaomi', 'Harga': 10000000}\n",
      "{'name': 'Adi', 'age': 20, 'address': 'Bandung'}\n"
     ]
    }
   ],
   "source": [
    "#Casting Dictionary\n",
    "\n",
    "list_tuple = [(\"name\",\"Dika\"),(\"nilai\",80)]\n",
    "dictStudent = dict(list_tuple)\n",
    "print(dictStudent)\n",
    "\n",
    "list_list = [(\"Buah\",\"Apel\"),(\"Harga\",10000)]\n",
    "dictBuah = dict(list_list)\n",
    "print(dictBuah)\n",
    "\n",
    "tuple_tuple = ((\"Matkul\",\"Aljabar\"),(\"Nilai\",89))\n",
    "dictMatkul = dict(tuple_tuple)\n",
    "print(dictMatkul)\n",
    "\n",
    "tuple_list = ([\"Merek\",\"Xiaomi\"]),[\"Harga\",10000000]\n",
    "dictMerek = dict(tuple_list)\n",
    "print(dictMerek)\n",
    "\n",
    "keys = [\"name\",\"age\",\"address\"]\n",
    "values = [\"Adi\",20,\"Bandung\"]\n",
    "\n",
    "dictData = dict(zip(keys,values))\n",
    "print(dictData)"
   ]
  },
  {
   "cell_type": "code",
   "execution_count": null,
   "id": "45724eea",
   "metadata": {},
   "outputs": [],
   "source": []
  }
 ],
 "metadata": {
  "kernelspec": {
   "display_name": "Python 3 (ipykernel)",
   "language": "python",
   "name": "python3"
  },
  "language_info": {
   "codemirror_mode": {
    "name": "ipython",
    "version": 3
   },
   "file_extension": ".py",
   "mimetype": "text/x-python",
   "name": "python",
   "nbconvert_exporter": "python",
   "pygments_lexer": "ipython3",
   "version": "3.9.12"
  }
 },
 "nbformat": 4,
 "nbformat_minor": 5
}
